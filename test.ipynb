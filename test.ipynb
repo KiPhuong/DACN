{
 "cells": [
  {
   "cell_type": "code",
   "execution_count": null,
   "metadata": {},
   "outputs": [],
   "source": [
    "import numpy as np\n",
    "import matplotlib.pyplot as plt\n",
    "from scipy.signal import savgol_filter as SGfilter\n",
    "from IPython.display import clear_output\n",
    "import datetime\n",
    "import joblib\n",
    "from tqdm import tqdm\n",
    "import requests\n",
    "from bs4 import BeautifulSoup\n",
    "\n",
    "import const\n",
    "import utilities as ut\n",
    "import mockSQLenv as SQLenv\n",
    "import agent as agn"
   ]
  },
  {
   "cell_type": "code",
   "execution_count": 1,
   "metadata": {},
   "outputs": [
    {
     "ename": "NameError",
     "evalue": "name 'agn' is not defined",
     "output_type": "error",
     "traceback": [
      "\u001b[0;31m---------------------------------------------------------------------------\u001b[0m",
      "\u001b[0;31mNameError\u001b[0m                                 Traceback (most recent call last)",
      "Cell \u001b[0;32mIn[1], line 2\u001b[0m\n\u001b[1;32m      1\u001b[0m nepisodes \u001b[38;5;241m=\u001b[39m \u001b[38;5;241m10000\u001b[39m\n\u001b[0;32m----> 2\u001b[0m agt \u001b[38;5;241m=\u001b[39m \u001b[43magn\u001b[49m\u001b[38;5;241m.\u001b[39mAgent(const\u001b[38;5;241m.\u001b[39mactions,verbose\u001b[38;5;241m=\u001b[39m\u001b[38;5;28;01mFalse\u001b[39;00m)\n\u001b[1;32m      3\u001b[0m agt\u001b[38;5;241m.\u001b[39mset_learning_options(exploration \u001b[38;5;241m=\u001b[39m \u001b[38;5;241m0.5\u001b[39m, \n\u001b[1;32m      4\u001b[0m                          learningrate\u001b[38;5;241m=\u001b[39m\u001b[38;5;241m0.1\u001b[39m, \n\u001b[1;32m      5\u001b[0m                          discount\u001b[38;5;241m=\u001b[39m\u001b[38;5;241m0.9\u001b[39m, max_step \u001b[38;5;241m=\u001b[39m \u001b[38;5;241m100\u001b[39m)\n\u001b[1;32m      7\u001b[0m steps \u001b[38;5;241m=\u001b[39m []; rewards \u001b[38;5;241m=\u001b[39m []; states \u001b[38;5;241m=\u001b[39m []\n",
      "\u001b[0;31mNameError\u001b[0m: name 'agn' is not defined"
     ]
    }
   ],
   "source": [
    "nepisodes = 10000\n",
    "agt = agn.Agent(const.actions,verbose=False)\n",
    "agt.set_learning_options(exploration = 0.5, \n",
    "                         learningrate=0.1, \n",
    "                         discount=0.9, max_step = 100)\n",
    "\n",
    "steps = []; rewards = []; states = []\n",
    "for _ in tqdm(range(nepisodes)):\n",
    "    env = SQLenv.mockSQLenv(verbose=True, data_reward = 10, syntax_reward = -5, differ_col_reward = -1, query_reward = -2, waf_block= -20)\n",
    "    \n",
    "    agt.reset(env)\n",
    "    agt.run_episode()\n",
    "    \n",
    "    steps.append(agt.steps)\n",
    "    rewards.append(agt.rewards)\n",
    "    states.append(ut.getdictshape(agt.Q)[0]) "
   ]
  },
  {
   "cell_type": "code",
   "execution_count": null,
   "metadata": {},
   "outputs": [],
   "source": [
    "timestamp = datetime.datetime.now().strftime(\"%Y%m%d%H%M%S%f\")\n",
    "joblib.dump(agt.Q,'ignore_zixem_'+timestamp+'.pkl')"
   ]
  },
  {
   "cell_type": "code",
   "execution_count": null,
   "metadata": {},
   "outputs": [],
   "source": [
    "plt.plot(states)\n",
    "plt.xlabel('episodes')\n",
    "plt.ylabel('number of states')"
   ]
  },
  {
   "cell_type": "code",
   "execution_count": null,
   "metadata": {},
   "outputs": [],
   "source": [
    "plt.plot(steps)\n",
    "plt.xlabel('episodes')\n",
    "plt.ylabel('number of steps')"
   ]
  },
  {
   "cell_type": "code",
   "execution_count": null,
   "metadata": {},
   "outputs": [],
   "source": [
    "plt.plot(rewards)\n",
    "plt.xlabel('episodes')\n",
    "plt.ylabel('reward')"
   ]
  },
  {
   "cell_type": "code",
   "execution_count": null,
   "metadata": {},
   "outputs": [],
   "source": [
    "#test\n",
    "nepisodes = 10**3\n",
    "\n",
    "agt = agn.Agent(const.actions,verbose=False)\n",
    "agt.set_learning_options(exploration=0.02, \n",
    "                         learningrate=0.1, \n",
    "                         discount=0.9, max_step = 1000)\n",
    "\n",
    "Tsteps = []; Trewards = []; Tstates = []\n",
    "for _ in tqdm(range(nepisodes)):\n",
    "    env = SQLenv.mockSQLenv(verbose=True, data_reward = 10, syntax_reward = -5, differ_col_reward = -1, query_reward = -2)\n",
    "    \n",
    "    agt.reset(env)\n",
    "    agt.run_episode()\n",
    "    \n",
    "    Tsteps.append(agt.steps)\n",
    "    Trewards.append(agt.rewards)\n",
    "    Tstates.append(ut.getdictshape(agt.Q)[0]) "
   ]
  },
  {
   "cell_type": "code",
   "execution_count": null,
   "metadata": {},
   "outputs": [],
   "source": [
    "plt.plot(Tsteps)\n",
    "plt.xlabel('episodes')\n",
    "plt.ylabel('number of steps')\n",
    "plt.axhline(np.average(Tsteps),c='red',ls='--',label='mean')\n",
    "plt.legend()"
   ]
  },
  {
   "cell_type": "code",
   "execution_count": null,
   "metadata": {},
   "outputs": [],
   "source": [
    "#plt.plot(np.mean(np.array(Trewards).reshape(-1,10),axis=1))\n",
    "plt.plot(Trewards)\n",
    "plt.xlabel('rewards')\n",
    "plt.ylabel('number of steps')\n",
    "plt.axhline(np.average(Trewards),c='red',ls='--',label='mean')\n",
    "plt.legend()"
   ]
  }
 ],
 "metadata": {
  "kernelspec": {
   "display_name": "Python 3",
   "language": "python",
   "name": "python3"
  },
  "language_info": {
   "codemirror_mode": {
    "name": "ipython",
    "version": 3
   },
   "file_extension": ".py",
   "mimetype": "text/x-python",
   "name": "python",
   "nbconvert_exporter": "python",
   "pygments_lexer": "ipython3",
   "version": "3.8.10"
  }
 },
 "nbformat": 4,
 "nbformat_minor": 2
}
